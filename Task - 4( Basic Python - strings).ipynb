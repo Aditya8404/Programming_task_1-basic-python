{
 "cells": [
  {
   "cell_type": "code",
   "execution_count": 1,
   "id": "f5bfaad1",
   "metadata": {},
   "outputs": [
    {
     "name": "stdout",
     "output_type": "stream",
     "text": [
      "HackerRank.com presents \"Pythonist 2\".\n",
      "hACKERrANK.COM PRESENTS \"pYTHONIST 2\".\n"
     ]
    }
   ],
   "source": [
    "# swap case\n",
    "\n",
    "def swap_case(s):\n",
    "    return (s.swapcase())\n",
    "\n",
    "if __name__ == '__main__':\n",
    "    s = input()\n",
    "    result = swap_case(s)\n",
    "    print(result)"
   ]
  },
  {
   "cell_type": "code",
   "execution_count": 2,
   "id": "ac3b2921",
   "metadata": {},
   "outputs": [
    {
     "name": "stdout",
     "output_type": "stream",
     "text": [
      "this is a string\n",
      "this-is-a-string\n"
     ]
    }
   ],
   "source": [
    "# string split and join\n",
    "\n",
    "def split_and_join(line):\n",
    "    # write your code here\n",
    "    s = line\n",
    "    s = s.split(\" \")\n",
    "    s = \"-\".join(s)\n",
    "    return s\n",
    "\n",
    "if __name__ == '__main__':\n",
    "    line = input()\n",
    "    result = split_and_join(line)\n",
    "    print(result)"
   ]
  },
  {
   "cell_type": "code",
   "execution_count": 3,
   "id": "19200c5d",
   "metadata": {},
   "outputs": [
    {
     "name": "stdout",
     "output_type": "stream",
     "text": [
      "Ross\n",
      "Taylor\n",
      "Hello Ross Taylor! You just delved into python.\n"
     ]
    }
   ],
   "source": [
    "# What's your name\n",
    "\n",
    "def print_full_name(first, last):\n",
    "    \n",
    "    print(\"Hello \"+first,last+\"! You just delved into python.\")\n",
    "    # Write your code here\n",
    "\n",
    "if __name__ == '__main__':\n",
    "    first_name = input()\n",
    "    last_name = input()\n",
    "    print_full_name(first_name, last_name)"
   ]
  },
  {
   "cell_type": "code",
   "execution_count": 4,
   "id": "c9175ede",
   "metadata": {},
   "outputs": [
    {
     "name": "stdout",
     "output_type": "stream",
     "text": [
      "abracadabra\n",
      "5 k\n",
      "abrackdabra\n"
     ]
    }
   ],
   "source": [
    "# Mutations\n",
    "\n",
    "def mutate_string(string, position, character):\n",
    "    a = \"\"\n",
    "    a = string[0:position] + c + string[position+1:]\n",
    "    return a\n",
    "\n",
    "if __name__ == '__main__':\n",
    "    s = input()\n",
    "    i, c = input().split()\n",
    "    s_new = mutate_string(s, int(i), c)\n",
    "    print(s_new)"
   ]
  },
  {
   "cell_type": "code",
   "execution_count": 5,
   "id": "50c419f7",
   "metadata": {},
   "outputs": [
    {
     "name": "stdout",
     "output_type": "stream",
     "text": [
      "ABCDCDC\n",
      "CDC\n",
      "2\n"
     ]
    }
   ],
   "source": [
    "# Find a String\n",
    "\n",
    "def count_substring(string, sub_string):\n",
    "    n = len(string)\n",
    "    sl = len(sub_string)\n",
    "    c = 0\n",
    "    \n",
    "    for i in range(n - sl + 1):\n",
    "        if string[i:(i+sl)] == sub_string:\n",
    "            c = c+1\n",
    "    \n",
    "    return c\n",
    "\n",
    "if __name__ == '__main__':\n",
    "    string = input().strip()\n",
    "    sub_string = input().strip()\n",
    "    \n",
    "    count = count_substring(string, sub_string)\n",
    "    print(count)"
   ]
  },
  {
   "cell_type": "code",
   "execution_count": 6,
   "id": "4f30ee8c",
   "metadata": {},
   "outputs": [
    {
     "name": "stdout",
     "output_type": "stream",
     "text": [
      "qA2\n",
      "True\n",
      "True\n",
      "True\n",
      "True\n",
      "True\n"
     ]
    }
   ],
   "source": [
    "# String Validators\n",
    "\n",
    "if __name__ == '__main__':\n",
    "    s = input()\n",
    "    print(any([i.isalnum() for i in s]))\n",
    "    print(any([i.isalpha() for i in s]))\n",
    "    print(any([i.isdigit() for i in s]))\n",
    "    print(any([i.islower() for i in s]))\n",
    "    print(any([i.isupper() for i in s]))"
   ]
  },
  {
   "cell_type": "code",
   "execution_count": 7,
   "id": "5ad85f71",
   "metadata": {},
   "outputs": [
    {
     "name": "stdout",
     "output_type": "stream",
     "text": [
      "5\n",
      "    H    \n",
      "   HHH   \n",
      "  HHHHH  \n",
      " HHHHHHH \n",
      "HHHHHHHHH\n",
      "  HHHHH               HHHHH             \n",
      "  HHHHH               HHHHH             \n",
      "  HHHHH               HHHHH             \n",
      "  HHHHH               HHHHH             \n",
      "  HHHHH               HHHHH             \n",
      "  HHHHH               HHHHH             \n",
      "  HHHHHHHHHHHHHHHHHHHHHHHHH   \n",
      "  HHHHHHHHHHHHHHHHHHHHHHHHH   \n",
      "  HHHHHHHHHHHHHHHHHHHHHHHHH   \n",
      "  HHHHH               HHHHH             \n",
      "  HHHHH               HHHHH             \n",
      "  HHHHH               HHHHH             \n",
      "  HHHHH               HHHHH             \n",
      "  HHHHH               HHHHH             \n",
      "  HHHHH               HHHHH             \n",
      "                    HHHHHHHHH \n",
      "                     HHHHHHH  \n",
      "                      HHHHH   \n",
      "                       HHH    \n",
      "                        H     \n"
     ]
    }
   ],
   "source": [
    "# Text alignment\n",
    "\n",
    "#Replace all ______ with rjust, ljust or center. \n",
    "\n",
    "thickness = int(input()) #This must be an odd number\n",
    "c = 'H'\n",
    "\n",
    "#Top Cone\n",
    "for i in range(thickness):\n",
    "    print((c*i).rjust(thickness-1)+c+(c*i).ljust(thickness-1))\n",
    "\n",
    "#Top Pillars\n",
    "for i in range(thickness+1):\n",
    "    print((c*thickness).center(thickness*2)+(c*thickness).center(thickness*6))\n",
    "\n",
    "#Middle Belt\n",
    "for i in range((thickness+1)//2):\n",
    "    print((c*thickness*5).center(thickness*6))    \n",
    "\n",
    "#Bottom Pillars\n",
    "for i in range(thickness+1):\n",
    "    print((c*thickness).center(thickness*2)+(c*thickness).center(thickness*6))    \n",
    "\n",
    "#Bottom Cone\n",
    "for i in range(thickness):\n",
    "    print(((c*(thickness-i-1)).rjust(thickness)+c+(c*(thickness-i-1)).ljust(thickness)).rjust(thickness*6))"
   ]
  },
  {
   "cell_type": "code",
   "execution_count": 8,
   "id": "1a381253",
   "metadata": {},
   "outputs": [
    {
     "name": "stdout",
     "output_type": "stream",
     "text": [
      "ABCDEFGHIJKLIMNOQRSTUVWXYZ\n",
      "4\n",
      "ABCD\n",
      "EFGH\n",
      "IJKL\n",
      "IMNO\n",
      "QRST\n",
      "UVWX\n",
      "YZ\n"
     ]
    }
   ],
   "source": [
    "# Text Wrap\n",
    "\n",
    "import textwrap\n",
    "\n",
    "def wrap(string, max_width):\n",
    "    return textwrap.fill(string, max_width)\n",
    "\n",
    "if __name__ == '__main__':\n",
    "    string, max_width = input(), int(input())\n",
    "    result = wrap(string, max_width)\n",
    "    print(result)"
   ]
  },
  {
   "cell_type": "code",
   "execution_count": 9,
   "id": "ff06a2c1",
   "metadata": {},
   "outputs": [
    {
     "name": "stdout",
     "output_type": "stream",
     "text": [
      "9 27\n",
      "------------.|.------------\n",
      "---------.|..|..|.---------\n",
      "------.|..|..|..|..|.------\n",
      "---.|..|..|..|..|..|..|.---\n",
      "----------WELCOME----------\n",
      "---.|..|..|..|..|..|..|.---\n",
      "------.|..|..|..|..|.------\n",
      "---------.|..|..|.---------\n",
      "------------.|.------------\n"
     ]
    }
   ],
   "source": [
    "# Designer Door Mat\n",
    "\n",
    "# Enter your code here. Read input from STDIN. Print output to STDOUT\n",
    "N, M = map(int, input().split())\n",
    "\n",
    "# Upper design\n",
    "for i in range(1, N, 2):\n",
    "    print((\".|.\" * i).center(M, \"-\"))\n",
    "\n",
    "# Middle design\n",
    "print(\"WELCOME\".center(M, \"-\"))\n",
    "\n",
    "# Lower design\n",
    "for i in range(N-2, -1, -2):\n",
    "    print((\".|.\" * i).center(M, \"-\"))"
   ]
  },
  {
   "cell_type": "code",
   "execution_count": 10,
   "id": "18e5fc25",
   "metadata": {},
   "outputs": [
    {
     "name": "stdout",
     "output_type": "stream",
     "text": [
      "17\n",
      "    1     1     1     1\n",
      "    2     2     2    10\n",
      "    3     3     3    11\n",
      "    4     4     4   100\n",
      "    5     5     5   101\n",
      "    6     6     6   110\n",
      "    7     7     7   111\n",
      "    8    10     8  1000\n",
      "    9    11     9  1001\n",
      "   10    12     A  1010\n",
      "   11    13     B  1011\n",
      "   12    14     C  1100\n",
      "   13    15     D  1101\n",
      "   14    16     E  1110\n",
      "   15    17     F  1111\n",
      "   16    20    10 10000\n",
      "   17    21    11 10001\n"
     ]
    }
   ],
   "source": [
    "# string formatting\n",
    "\n",
    "def print_formatted(number):\n",
    "    width = len(bin(n)[2:])\n",
    "    for i in range(1, n+1):\n",
    "        decimal = str(i)\n",
    "        octal = oct(i)[2:]\n",
    "        hexadecimal = hex(i)[2:].upper()\n",
    "        binary = bin(i)[2:]\n",
    "        print(\"{0:>{width}} {1:>{width}} {2:>{width}} {3:>{width}}\".format(decimal, octal, hexadecimal, binary, width=width))\n",
    "    # your code goes here\n",
    "\n",
    "if __name__ == '__main__':\n",
    "    n = int(input())\n",
    "    print_formatted(n)"
   ]
  },
  {
   "cell_type": "code",
   "execution_count": 12,
   "id": "b89e24d7",
   "metadata": {},
   "outputs": [
    {
     "name": "stdout",
     "output_type": "stream",
     "text": [
      "5\n",
      "--------e--------\n",
      "------e-d-e------\n",
      "----e-d-c-d-e----\n",
      "--e-d-c-b-c-d-e--\n",
      "e-d-c-b-a-b-c-d-e\n",
      "--e-d-c-b-c-d-e--\n",
      "----e-d-c-d-e----\n",
      "------e-d-e------\n",
      "--------e--------\n"
     ]
    }
   ],
   "source": [
    "# alphabet rangoli\n",
    "\n",
    "def print_rangoli(size):\n",
    "    # your code goes here\n",
    "    for i in range(n):\n",
    "        s = \"-\".join(chr(ord('a')+ n - j - 1)for j in range(i+1))\n",
    "        print((s+s[::-1][1:]).center(n*4 - 3, '-'))\n",
    "        \n",
    "    for i in range(n-1):\n",
    "        s = \"-\".join(chr(ord('a')+ n - j - 1)for j in range(n-i-1))\n",
    "        print((s+s[::-1][1:]).center(n*4 - 3, '-'))\n",
    "\n",
    "if __name__ == '__main__':\n",
    "    n = int(input())\n",
    "    print_rangoli(n)"
   ]
  },
  {
   "cell_type": "code",
   "execution_count": null,
   "id": "dc1dab4b",
   "metadata": {},
   "outputs": [],
   "source": [
    "# Capitalize\n",
    "\n",
    "\n",
    "import math\n",
    "import os\n",
    "import random\n",
    "import re\n",
    "import sys\n",
    "\n",
    "# Complete the solve function below.\n",
    "def solve(s):\n",
    "    l = s.split(' ')\n",
    "    a = \"\"\n",
    "    for i in l:\n",
    "        a = a + i.capitalize() + ' '\n",
    "    return a \n",
    "\n",
    "if __name__ == '__main__':\n",
    "    fptr = open(os.environ['OUTPUT_PATH'], 'w')\n",
    "\n",
    "    s = input()\n",
    "\n",
    "    result = solve(s)\n",
    "\n",
    "    fptr.write(result + '\\n')\n",
    "\n",
    "    fptr.close()"
   ]
  },
  {
   "cell_type": "code",
   "execution_count": 15,
   "id": "33eac5d5",
   "metadata": {},
   "outputs": [
    {
     "name": "stdout",
     "output_type": "stream",
     "text": [
      "BANANA\n",
      "Stuart 12\n"
     ]
    }
   ],
   "source": [
    "# The Minion Game\n",
    "\n",
    "def minion_game(string):\n",
    "    vowels = \"AEIOU\"\n",
    "    kevin_score = 0\n",
    "    stuart_score = 0\n",
    "    for i in range(len(string)):\n",
    "        if string[i] in vowels:\n",
    "            kevin_score += len(string) - i\n",
    "        else:\n",
    "            stuart_score += len(string) - i\n",
    "\n",
    "    if kevin_score > stuart_score:\n",
    "        print(\"Kevin\", kevin_score)\n",
    "    elif stuart_score > kevin_score:\n",
    "        print(\"Stuart\", stuart_score)\n",
    "    else:\n",
    "        print(\"Draw\")\n",
    "    # your code goes here\n",
    "\n",
    "if __name__ == '__main__':\n",
    "    s = input()\n",
    "    minion_game(s)"
   ]
  },
  {
   "cell_type": "code",
   "execution_count": 16,
   "id": "92d0a4c5",
   "metadata": {},
   "outputs": [
    {
     "name": "stdout",
     "output_type": "stream",
     "text": [
      "AABCAAADA\n",
      "3\n",
      "AB\n",
      "CA\n",
      "AD\n"
     ]
    }
   ],
   "source": [
    "# Merge the tools\n",
    "\n",
    "def merge_the_tools(string, k):\n",
    "    substrings = [string[i:i+k] for i in range(0, len(string), k)]\n",
    "\n",
    "    for substring in substrings:\n",
    "        seen = set()\n",
    "        output = \"\"\n",
    "        for char in substring:\n",
    "            if char not in seen:\n",
    "                output += char\n",
    "                seen.add(char)\n",
    "        print(output)\n",
    "    # your code goes here\n",
    "\n",
    "if __name__ == '__main__':\n",
    "    string, k = input(), int(input())\n",
    "    merge_the_tools(string, k)"
   ]
  }
 ],
 "metadata": {
  "kernelspec": {
   "display_name": "Python 3 (ipykernel)",
   "language": "python",
   "name": "python3"
  },
  "language_info": {
   "codemirror_mode": {
    "name": "ipython",
    "version": 3
   },
   "file_extension": ".py",
   "mimetype": "text/x-python",
   "name": "python",
   "nbconvert_exporter": "python",
   "pygments_lexer": "ipython3",
   "version": "3.10.4"
  }
 },
 "nbformat": 4,
 "nbformat_minor": 5
}
