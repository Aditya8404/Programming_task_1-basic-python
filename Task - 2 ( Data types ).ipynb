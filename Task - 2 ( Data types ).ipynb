{
 "cells": [
  {
   "cell_type": "code",
   "execution_count": 2,
   "id": "73710370",
   "metadata": {},
   "outputs": [
    {
     "name": "stdout",
     "output_type": "stream",
     "text": [
      "2\n",
      "2\n",
      "2\n",
      "2\n",
      "[[0, 0, 0], [0, 0, 1], [0, 1, 0], [0, 1, 2], [0, 2, 1], [0, 2, 2], [1, 0, 0], [1, 0, 2], [1, 1, 1], [1, 1, 2], [1, 2, 0], [1, 2, 1], [1, 2, 2], [2, 0, 1], [2, 0, 2], [2, 1, 0], [2, 1, 1], [2, 1, 2], [2, 2, 0], [2, 2, 1], [2, 2, 2]]\n"
     ]
    }
   ],
   "source": [
    "# list comprehensions\n",
    "\n",
    "if __name__ == '__main__':\n",
    "    x = int(input())\n",
    "    y = int(input())\n",
    "    z = int(input())\n",
    "    n = int(input())\n",
    "    \n",
    "    result = [[i, j, k] for i in range(x+1) for j in range(y+1) for k in range(z+1) if (i+j+k) != n]\n",
    "    \n",
    "    print(result)"
   ]
  },
  {
   "cell_type": "code",
   "execution_count": 1,
   "id": "2a5ba1d8",
   "metadata": {},
   "outputs": [
    {
     "name": "stdout",
     "output_type": "stream",
     "text": [
      "5\n",
      "2 3 6 6 5\n",
      "5\n"
     ]
    }
   ],
   "source": [
    "# Find the Runner-up score\n",
    "\n",
    "if __name__ == '__main__':\n",
    "    n = int(input())\n",
    "    arr = map(int, input().split())\n",
    "    \n",
    "    no_dup_list = list(set(arr))\n",
    "    no_dup_list.sort()\n",
    "    print(no_dup_list[-2])"
   ]
  },
  {
   "cell_type": "code",
   "execution_count": 3,
   "id": "5d7ad7f6",
   "metadata": {},
   "outputs": [
    {
     "name": "stdout",
     "output_type": "stream",
     "text": [
      "5\n",
      "Harry\n",
      "37.21\n",
      "Berry\n",
      "37.21\n",
      "Tina\n",
      "37.2\n",
      "Akriti\n",
      "41\n",
      "Harsh\n",
      "39\n",
      "Berry\n",
      "Harry\n"
     ]
    }
   ],
   "source": [
    "# Nested lists\n",
    "\n",
    "if __name__ == '__main__':\n",
    "    \n",
    "    n = int(input())\n",
    "    student_dict = {}\n",
    "    \n",
    "    for i in range(n):\n",
    "        name = input()\n",
    "        score = float(input())\n",
    "        student_dict[name] = score\n",
    "    \n",
    "    score_list = list(set(student_dict.values()))\n",
    "    score_list.sort()\n",
    "    sec_low = score_list[1]\n",
    "    \n",
    "    name_list = []           # student_dict[sec_low]\n",
    "    for i in student_dict:\n",
    "        if student_dict[i] == sec_low:\n",
    "            name_list.append(i)\n",
    "    \n",
    "    name_list.sort()\n",
    "    for name in name_list:\n",
    "        print(name)"
   ]
  },
  {
   "cell_type": "code",
   "execution_count": 4,
   "id": "108a7633",
   "metadata": {},
   "outputs": [
    {
     "name": "stdout",
     "output_type": "stream",
     "text": [
      "3\n",
      "Krishna 67 68 69\n",
      "Arjun 70 98 63\n",
      "Malika 52 56 60\n",
      "Malika\n",
      "56.00\n"
     ]
    }
   ],
   "source": [
    "# Finding the percentage \n",
    "\n",
    "if __name__ == '__main__':\n",
    "    n = int(input())\n",
    "    student_marks = {}\n",
    "    for _ in range(n):\n",
    "        name, *line = input().split()\n",
    "        scores = list(map(float, line))\n",
    "        student_marks[name] = scores\n",
    "    query_name = input()\n",
    "    \n",
    "    ans = sum(student_marks[query_name])/3\n",
    "    print(format(ans,'.2f'))"
   ]
  },
  {
   "cell_type": "code",
   "execution_count": 6,
   "id": "a9958392",
   "metadata": {},
   "outputs": [
    {
     "name": "stdout",
     "output_type": "stream",
     "text": [
      "5\n",
      "insert 0 5\n",
      "insert 1 10\n",
      "append 9\n",
      "reverse\n",
      "print\n",
      "[9, 10, 5]\n"
     ]
    }
   ],
   "source": [
    "# Lists\n",
    "\n",
    "if __name__ == '__main__':\n",
    "    L = []\n",
    "    N = int(input())\n",
    "    for i in range(0, N):\n",
    "        ac = input().split()\n",
    "        for j in range(1, len(ac)):\n",
    "            ac[j] = int(ac[j])\n",
    "        \n",
    "        if ac[0] == 'insert':\n",
    "            L.insert(ac[1] , ac[2])\n",
    "            \n",
    "        elif ac[0] == 'remove':\n",
    "            L.remove(ac[1])\n",
    "            \n",
    "        elif ac[0] == 'append':\n",
    "            L.append(ac[1])\n",
    "            \n",
    "        elif ac[0] == 'pop':\n",
    "            L.pop()\n",
    "            \n",
    "        elif ac[0] == 'reverse':\n",
    "            L.reverse()\n",
    "            \n",
    "        elif ac[0] == 'sort':\n",
    "            L.sort()\n",
    "            \n",
    "        elif ac[0] == 'print':\n",
    "            print(L)"
   ]
  },
  {
   "cell_type": "code",
   "execution_count": 8,
   "id": "9f4ef7b4",
   "metadata": {},
   "outputs": [
    {
     "name": "stdout",
     "output_type": "stream",
     "text": [
      "2\n",
      "1 2\n",
      "-3550055125485641917\n"
     ]
    }
   ],
   "source": [
    "# Tuples\n",
    "\n",
    "if __name__ == '__main__':\n",
    "    n = int(input())\n",
    "    int_list = map(int, input().split())\n",
    "    t = tuple(int_list)\n",
    "    print(hash(t))"
   ]
  },
  {
   "cell_type": "code",
   "execution_count": 9,
   "id": "37eb045c",
   "metadata": {},
   "outputs": [
    {
     "name": "stdout",
     "output_type": "stream",
     "text": [
      "10\n",
      "161 182 161 154 176 170 167 171 170 174\n",
      "169.375\n"
     ]
    }
   ],
   "source": [
    "# Introduction to Sets\n",
    "\n",
    "def average(array):\n",
    "    array = set(array)\n",
    "    sum1 = sum(array)\n",
    "    n = len(array)\n",
    "    avg = sum1/n\n",
    "    \n",
    "    return avg\n",
    "    # your code goes here\n",
    "\n",
    "if __name__ == '__main__':\n",
    "    n = int(input())\n",
    "    arr = list(map(int, input().split()))\n",
    "    result = average(arr)\n",
    "    print(result)"
   ]
  },
  {
   "cell_type": "code",
   "execution_count": 10,
   "id": "736dc2ed",
   "metadata": {},
   "outputs": [
    {
     "name": "stdout",
     "output_type": "stream",
     "text": [
      "3 2\n",
      "1 5 3\n",
      "3 1\n",
      "5 7\n",
      "1\n"
     ]
    }
   ],
   "source": [
    "# No Idea\n",
    "\n",
    "n, m = map(int, input().split())\n",
    "\n",
    "arr = list(map(int, input().split()))\n",
    "a = set(map(int, input().split()))\n",
    "b = set(map(int, input().split()))\n",
    "\n",
    "happiness = 0\n",
    "\n",
    "for i in arr:\n",
    "    if i in a:\n",
    "        happiness += 1\n",
    "    \n",
    "    elif i in b:\n",
    "        happiness -= 1\n",
    "    \n",
    "print(happiness)"
   ]
  },
  {
   "cell_type": "code",
   "execution_count": 11,
   "id": "7d513056",
   "metadata": {},
   "outputs": [
    {
     "name": "stdout",
     "output_type": "stream",
     "text": [
      "4\n",
      "2 4 5 9\n",
      "4\n",
      "2 4 11 12\n",
      "5\n",
      "9\n",
      "11\n",
      "12\n"
     ]
    }
   ],
   "source": [
    "# symmetric difference\n",
    "\n",
    "# Enter your code here. Read input from STDIN. Print output to STDOUT\n",
    "m = int(input())\n",
    "M = set(map(int, input().split()))\n",
    "n = int(input())\n",
    "N = set(map(int, input().split()))\n",
    "\n",
    "sym_diff = sorted(M.symmetric_difference(N))\n",
    "\n",
    "for i in sym_diff:\n",
    "    print(i)"
   ]
  },
  {
   "cell_type": "code",
   "execution_count": 12,
   "id": "55d32b31",
   "metadata": {},
   "outputs": [
    {
     "name": "stdout",
     "output_type": "stream",
     "text": [
      "7\n",
      "UK\n",
      "CHINA\n",
      "USA\n",
      "FRANCE\n",
      "NEW ZEALAND\n",
      "UK\n",
      "FRANCE\n",
      "5\n"
     ]
    }
   ],
   "source": [
    "# Set .add()\n",
    "\n",
    "# Enter your code here. Read input from STDIN. Print output to STDOUT\n",
    "n = int(input())\n",
    "country_set = set()\n",
    "for i in range(n):\n",
    "    val = input()\n",
    "    country_set.add(val)\n",
    "\n",
    "print(len(country_set))"
   ]
  },
  {
   "cell_type": "code",
   "execution_count": 13,
   "id": "59ef5559",
   "metadata": {},
   "outputs": [
    {
     "name": "stdout",
     "output_type": "stream",
     "text": [
      "9\n",
      "1 2 3 4 5 6 7 8 9\n",
      "5\n",
      "pop\n",
      "discard 8\n",
      "remove 5\n",
      "discard 6\n",
      "pop\n",
      "23\n"
     ]
    }
   ],
   "source": [
    "# set .discard(), .remove() and .pop()\n",
    "\n",
    "n = int(input())\n",
    "s = set(map(int, input().split()))\n",
    "num = int(input())\n",
    "\n",
    "for i in range(num):\n",
    "    cmd = input().split()\n",
    "    if cmd[0] == 'pop':\n",
    "        s.pop()\n",
    "    elif cmd[0] == 'remove':\n",
    "        s.remove(int(cmd[1]))\n",
    "    elif cmd[0] == 'discard':\n",
    "        s.discard(int(cmd[1]))\n",
    "\n",
    "print(sum(s))"
   ]
  },
  {
   "cell_type": "code",
   "execution_count": 14,
   "id": "0cd12c37",
   "metadata": {},
   "outputs": [
    {
     "name": "stdout",
     "output_type": "stream",
     "text": [
      "9\n",
      "1 2 3 4 5 6 7 8 9\n",
      "9\n",
      "10 1 2 3 11 21 55 6 8\n",
      "13\n"
     ]
    }
   ],
   "source": [
    "# set .union() operation\n",
    "\n",
    "# Enter your code here. Read input from STDIN. Print output to STDOUT\n",
    "n = int(input())\n",
    "english_sub = set(map(int, input().split()))\n",
    "b = int(input())\n",
    "french_sub = set(map(int, input().split()))\n",
    "\n",
    "total_subs = len(english_sub.union(french_sub))\n",
    "\n",
    "print(total_subs)"
   ]
  },
  {
   "cell_type": "code",
   "execution_count": 15,
   "id": "adce496e",
   "metadata": {},
   "outputs": [
    {
     "name": "stdout",
     "output_type": "stream",
     "text": [
      "9\n",
      "1 2 3 4 5 6 7 8 9\n",
      "9\n",
      "10 1 2 3 11 21 55 6 8\n",
      "5\n"
     ]
    }
   ],
   "source": [
    "# set .intersection() operation\n",
    "\n",
    "# Enter your code here. Read input from STDIN. Print output to STDOUT\n",
    "n = int(input())\n",
    "english_sub = set(map(int, input().split()))\n",
    "b = int(input())\n",
    "french_sub = set(map(int, input().split()))\n",
    "\n",
    "total_subs = len(english_sub.intersection(french_sub))\n",
    "\n",
    "print(total_subs)"
   ]
  },
  {
   "cell_type": "code",
   "execution_count": 16,
   "id": "92523444",
   "metadata": {},
   "outputs": [
    {
     "name": "stdout",
     "output_type": "stream",
     "text": [
      "9\n",
      "1 2 3 4 5 6 7 8 9\n",
      "9\n",
      "10 1 2 3 11 21 55 6 8\n",
      "4\n"
     ]
    }
   ],
   "source": [
    "# set .difference operation()\n",
    "\n",
    "# Enter your code here. Read input from STDIN. Print output to STDOUT\n",
    "n = int(input())\n",
    "english_sub = set(map(int, input().split()))\n",
    "b = int(input())\n",
    "french_sub = set(map(int, input().split()))\n",
    "\n",
    "total_subs = len(english_sub.difference(french_sub))\n",
    "\n",
    "print(total_subs)"
   ]
  },
  {
   "cell_type": "code",
   "execution_count": 17,
   "id": "a84cd25c",
   "metadata": {},
   "outputs": [
    {
     "name": "stdout",
     "output_type": "stream",
     "text": [
      "9\n",
      "1 2 3 4 5 6 7 8 9\n",
      "9\n",
      "10 1 2 3 11 21 55 6 8\n",
      "8\n"
     ]
    }
   ],
   "source": [
    "# Set .symmetric_difference() Operation\n",
    "\n",
    "# Enter your code here. Read input from STDIN. Print output to STDOUT\n",
    "n = int(input())\n",
    "english_sub = set(map(int, input().split()))\n",
    "b = int(input())\n",
    "french_sub = set(map(int, input().split()))\n",
    "\n",
    "total_subs = len(english_sub.symmetric_difference(french_sub))\n",
    "\n",
    "print(total_subs)"
   ]
  },
  {
   "cell_type": "code",
   "execution_count": 19,
   "id": "e5fa04a2",
   "metadata": {},
   "outputs": [
    {
     "name": "stdout",
     "output_type": "stream",
     "text": [
      "16\n",
      "1 2 3 4 5 6 7 8 9 10 11 12 13 14 24 52\n",
      "4\n",
      "intersection_update 10\n",
      "2 3 5 6 8 9 1 4 7 11\n",
      "update 2\n",
      "55 66\n",
      "symmetric_difference_update 5\n",
      "22 7 35 62 58\n",
      "difference_update 7\n",
      "11 22 35 55 58 62 66\n",
      "38\n"
     ]
    }
   ],
   "source": [
    "# Set Mutations\n",
    "\n",
    "# Enter your code here. Read input from STDIN. Print output to STDOUT\n",
    "a = int(input())\n",
    "A = set(map(int, input().split()))\n",
    "n = int(input())\n",
    "\n",
    "for i in range(n):\n",
    "    op = input().split()\n",
    "    B = set(map(int, input().split()))\n",
    "    if op[0] == 'update':\n",
    "        A.update(B)\n",
    "    elif op[0] == 'intersection_update':\n",
    "        A.intersection_update(B)\n",
    "    elif op[0] == 'difference_update':\n",
    "        A.difference_update(B)\n",
    "    elif op[0] == 'symmetric_difference_update':\n",
    "        A.symmetric_difference_update(B)\n",
    "\n",
    "print(sum(A))"
   ]
  },
  {
   "cell_type": "code",
   "execution_count": 20,
   "id": "6e0bddfb",
   "metadata": {},
   "outputs": [
    {
     "name": "stdout",
     "output_type": "stream",
     "text": [
      "5\n",
      "1 2 3 6 5 4 4 2 5 3 6 1 6 5 3 2 4 1 2 5 1 4 3 6 8 4 3 1 5 6 2\n",
      "8\n"
     ]
    }
   ],
   "source": [
    "# The Captain's Room\n",
    "\n",
    "# Enter your code here. Read input from STDIN. Print output to STDOUT\n",
    "k = int(input())\n",
    "room_no = input().split()\n",
    "\n",
    "visited = set()\n",
    "unvisited = set()\n",
    "\n",
    "for room in room_no:\n",
    "    if room in visited:\n",
    "        unvisited.add(room)\n",
    "    else:\n",
    "        visited.add(room)\n",
    "\n",
    "captain_room = list(visited.difference(unvisited))\n",
    "\n",
    "print(captain_room[0])"
   ]
  },
  {
   "cell_type": "code",
   "execution_count": 21,
   "id": "ef8101c8",
   "metadata": {},
   "outputs": [
    {
     "name": "stdout",
     "output_type": "stream",
     "text": [
      "2\n",
      "5\n",
      "1 2 3 5 6\n",
      "9\n",
      "9 8 5 6 3 2 1 4 7\n",
      "True\n",
      "7\n",
      "1 2 3 5 6 8 9\n",
      "3\n",
      "9 8 2\n",
      "False\n"
     ]
    }
   ],
   "source": [
    "# check subset\n",
    "\n",
    "# Enter your code here. Read input from STDIN. Print output to STDOUT\n",
    "T = int(input())\n",
    "\n",
    "for i in range(T):\n",
    "    n = int(input())\n",
    "    A = set(map(int, input().split()))\n",
    "    m = int(input())\n",
    "    B = set(map(int, input().split()))\n",
    "    if A.issubset(B):\n",
    "        print(True)\n",
    "    else:\n",
    "        print(False)"
   ]
  },
  {
   "cell_type": "code",
   "execution_count": 22,
   "id": "839b881b",
   "metadata": {},
   "outputs": [
    {
     "name": "stdout",
     "output_type": "stream",
     "text": [
      "1 2 3 4 5 6 7 8 9 10 11 12 23 45 84 78\n",
      "2\n",
      "1 2 3 4 5\n",
      "100 11 12\n",
      "False\n"
     ]
    }
   ],
   "source": [
    "# check strict superset\n",
    "\n",
    "# Enter your code here. Read input from STDIN. Print output to STDOUT\n",
    "A = set(map(int, input().split()))\n",
    "n = int(input())\n",
    "\n",
    "flag = True\n",
    "\n",
    "for i in range(n):\n",
    "    B = set(map(int, input().split()))\n",
    "    if not A.issuperset(B):\n",
    "        flag = False\n",
    "        break\n",
    "\n",
    "print(flag)"
   ]
  }
 ],
 "metadata": {
  "kernelspec": {
   "display_name": "Python 3 (ipykernel)",
   "language": "python",
   "name": "python3"
  },
  "language_info": {
   "codemirror_mode": {
    "name": "ipython",
    "version": 3
   },
   "file_extension": ".py",
   "mimetype": "text/x-python",
   "name": "python",
   "nbconvert_exporter": "python",
   "pygments_lexer": "ipython3",
   "version": "3.10.4"
  }
 },
 "nbformat": 4,
 "nbformat_minor": 5
}
