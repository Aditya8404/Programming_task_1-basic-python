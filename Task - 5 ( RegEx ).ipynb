{
 "cells": [
  {
   "cell_type": "code",
   "execution_count": 1,
   "id": "e8ad7ff7",
   "metadata": {},
   "outputs": [
    {
     "name": "stdout",
     "output_type": "stream",
     "text": [
      "4\n",
      "4.0O0\n",
      "False\n",
      "-1.00\n",
      "True\n",
      "+4.54\n",
      "True\n",
      "SomeRandomStuff\n",
      "False\n"
     ]
    }
   ],
   "source": [
    "# Detect floating point number\n",
    "\n",
    "# Enter your code here. Read input from STDIN. Print output to STDOUT\n",
    "import re\n",
    "t = int(input())\n",
    "pattern = '^[+-]?[0-9]*\\.[0-9]+$'\n",
    "for i in range(t):\n",
    "    n = input()\n",
    "    print(bool(re.match(pattern, n)))"
   ]
  },
  {
   "cell_type": "code",
   "execution_count": 2,
   "id": "d656a3e0",
   "metadata": {},
   "outputs": [
    {
     "name": "stdout",
     "output_type": "stream",
     "text": [
      "100,000,000.000\n",
      "100\n",
      "000\n",
      "000\n",
      "000\n"
     ]
    }
   ],
   "source": [
    "# Re.split()\n",
    "\n",
    "regex_pattern = r\"[,.]\"\t# Do not delete 'r'.\n",
    "\n",
    "import re\n",
    "print(\"\\n\".join(re.split(regex_pattern, input())))"
   ]
  },
  {
   "cell_type": "code",
   "execution_count": 3,
   "id": "849f56a3",
   "metadata": {},
   "outputs": [
    {
     "name": "stdout",
     "output_type": "stream",
     "text": [
      "..12345678910111213141516171820212223\n",
      "1\n"
     ]
    }
   ],
   "source": [
    "# Group(), Groups() & Groupdict()\n",
    "\n",
    "# Enter your code here. Read input from STDIN. Print output to STDOUT\n",
    "import re\n",
    "\n",
    "s = input()\n",
    "\n",
    "pattern = r\"([a-zA-Z0-9])\\1+\"\n",
    "\n",
    "match = re.search(pattern, s)\n",
    "\n",
    "if match:\n",
    "    print(match.group(1))\n",
    "    \n",
    "else:\n",
    "    print(-1)"
   ]
  },
  {
   "cell_type": "code",
   "execution_count": 4,
   "id": "ee8af402",
   "metadata": {},
   "outputs": [
    {
     "name": "stdout",
     "output_type": "stream",
     "text": [
      "rabcdeefgyYhFjkIoomnpOeorteeeeet\n",
      "ee\n",
      "Ioo\n",
      "Oeo\n",
      "eeeee\n"
     ]
    }
   ],
   "source": [
    "# Re.findall() & Re.finditer()\n",
    "\n",
    "# Enter your code here. Read input from STDIN. Print output to STDOUT\n",
    "import re\n",
    "\n",
    "s = input()\n",
    "\n",
    "pattern = r'(?<=[QWRTYPSDFGHJKLZXCVBNMqwrtypsdfghjklzxcvbnm])[AEIOUaeiou]{2,}(?=[QWRTYPSDFGHJKLZXCVBNMqwrtypsdfghjklzxcvbnm])'\n",
    "\n",
    "matches = re.findall(pattern, s)\n",
    "\n",
    "if matches:\n",
    "    for match in matches:\n",
    "        print(match)\n",
    "else:\n",
    "    print(-1)"
   ]
  },
  {
   "cell_type": "code",
   "execution_count": 5,
   "id": "04a1ff66",
   "metadata": {},
   "outputs": [
    {
     "name": "stdout",
     "output_type": "stream",
     "text": [
      "aaadaa\n",
      "aa\n",
      "(0, 1)\n",
      "(1, 2)\n",
      "(4, 5)\n"
     ]
    }
   ],
   "source": [
    "# Re.start() and Re.end()\n",
    "\n",
    "# Enter your code here. Read input from STDIN. Print output to STDOUT\n",
    "import re\n",
    "\n",
    "s = input()  # Read the input string\n",
    "k = input()  # Read the substring to search for\n",
    "\n",
    "pattern = r\"(?=(\" + k + \"))\"\n",
    "matches = re.finditer(pattern, s)\n",
    "\n",
    "found_match = False\n",
    "for match in matches:\n",
    "    print((match.start(1), match.end(1) - 1))\n",
    "    found_match = True\n",
    "\n",
    "if not found_match:\n",
    "    print((-1, -1))"
   ]
  },
  {
   "cell_type": "code",
   "execution_count": 6,
   "id": "4b84e345",
   "metadata": {},
   "outputs": [
    {
     "name": "stdout",
     "output_type": "stream",
     "text": [
      "11\n",
      "a = 1;\n",
      "a = 1;\n",
      "b = input();\n",
      "b = input();\n",
      "if a + b > 0 && a - b < 0:\n",
      "if a + b > 0 and a - b < 0:\n",
      "elif a*b > 10 || a/b < 1:\n",
      "elif a*b > 10 or a/b < 1:\n",
      "#Note do not change &&& or ||| or & or |\n",
      "#Note do not change &&& or ||| or & or |\n",
      "#Only change those '&&' which have space on both sides.\n",
      "#Only change those '&&' which have space on both sides.\n",
      "#Only change those '|| which have space on both sides.\n",
      "#Only change those '|| which have space on both sides.\n",
      "print set(list(a)) | set(list(b)) \n",
      "print set(list(a)) | set(list(b)) \n",
      "    start()\n",
      "    start()\n",
      "    stop()\n",
      "    stop()\n",
      "over\n",
      "over\n"
     ]
    }
   ],
   "source": [
    "# Regex substitution\n",
    "\n",
    "# Enter your code here. Read input from STDIN. Print output to STDOUT\n",
    "import re\n",
    "def change(match):\n",
    "    if match.group(1) == '&&':\n",
    "        return 'and'\n",
    "    else:\n",
    "        return 'or' \n",
    "    \n",
    "for i in range(int(input())):\n",
    "    print(re.sub(r\"(?<= )(\\|\\||&&)(?= )\", change, input()))"
   ]
  },
  {
   "cell_type": "code",
   "execution_count": 7,
   "id": "668b6773",
   "metadata": {},
   "outputs": [
    {
     "name": "stdout",
     "output_type": "stream",
     "text": [
      "CDXXI\n",
      "True\n"
     ]
    }
   ],
   "source": [
    "# Validating Roman Numerals\n",
    "\n",
    "regex_pattern = r\"^(M{0,3})(CM|CD|D?C{0,3})(XC|XL|L?X{0,3})(IX|IV|V?I{0,3})$\"# Do not delete 'r'.\n",
    "\n",
    "import re\n",
    "print(str(bool(re.match(regex_pattern, input()))))"
   ]
  },
  {
   "cell_type": "code",
   "execution_count": 8,
   "id": "d1898818",
   "metadata": {},
   "outputs": [
    {
     "name": "stdout",
     "output_type": "stream",
     "text": [
      "2\n",
      "9587456281\n",
      "YES\n",
      "1252478965\n",
      "NO\n"
     ]
    }
   ],
   "source": [
    "# Validating Phone numbers\n",
    "\n",
    "# Enter your code here. Read input from STDIN. Print output to STDOUT\n",
    "import re\n",
    "\n",
    "n = int(input())\n",
    "for i in range(n):\n",
    "    number = input()\n",
    "    if re.match(r'^[98]\\d{9}$', number):\n",
    "        print('YES')\n",
    "    else:\n",
    "        print('NO')"
   ]
  },
  {
   "cell_type": "code",
   "execution_count": 9,
   "id": "79f85aad",
   "metadata": {},
   "outputs": [
    {
     "name": "stdout",
     "output_type": "stream",
     "text": [
      "2\n",
      "DEXTER <dexter@hotmail.com>\n",
      "DEXTER <dexter@hotmail.com>\n",
      "VIRUS <virus!@variable.:p>\n"
     ]
    }
   ],
   "source": [
    "# Validating and parsing email addresses\n",
    "\n",
    "# Enter your code here. Read input from STDIN. Print output to STDOUT\n",
    "import re\n",
    "\n",
    "n = int(input())\n",
    "for i in range(n):\n",
    "    name_email = input().split(\" \")\n",
    "    name = name_email[0]\n",
    "    email = name_email[1]\n",
    "    pattern = r'<[a-z][a-zA-Z0-9\\-\\.\\_]+@[a-zA-Z]+\\.[a-zA-Z]{1,3}>'\n",
    "    if bool(re.match(pattern, email)):\n",
    "        print(name,email)"
   ]
  },
  {
   "cell_type": "code",
   "execution_count": null,
   "id": "19bfa8c2",
   "metadata": {},
   "outputs": [],
   "source": [
    "# Hex color code\n",
    "\n",
    "# Enter your code here. Read input from STDIN. Print output to STDOUT\n",
    "import re\n",
    "\n",
    "in_css = False\n",
    "\n",
    "n = int(input())\n",
    "\n",
    "for i in range(n):\n",
    "    css_code = input()\n",
    "    if '{' in css_code:\n",
    "        in_css = True\n",
    "    elif '}' in css_code:\n",
    "        in_css = False\n",
    "    elif in_css:\n",
    "        for color in re.findall('#[0-9A-Fa-f]{3,6}', css_code):\n",
    "            print(color)"
   ]
  },
  {
   "cell_type": "code",
   "execution_count": 10,
   "id": "b1e4dff8",
   "metadata": {},
   "outputs": [
    {
     "name": "stdout",
     "output_type": "stream",
     "text": [
      "2\n",
      "<html><head><title>HTML Parser - I</title></head>\n",
      "<body data-modal-target class='1'><h1>HackerRank</h1><br /></body></html>\n",
      "Start : html\n",
      "Start : head\n",
      "Start : title\n",
      "End   : title\n",
      "End   : head\n",
      "Start : body\n",
      "-> data-modal-target > None\n",
      "-> class > 1\n",
      "Start : h1\n",
      "End   : h1\n",
      "Empty : br\n",
      "End   : body\n",
      "End   : html\n"
     ]
    }
   ],
   "source": [
    "# HTML parser part-1\n",
    "\n",
    "# Enter your code here. Read input from STDIN. Print output to STDOUT\n",
    "from html.parser import HTMLParser\n",
    "\n",
    "class MyHTMLParser(HTMLParser):\n",
    "    def handle_starttag(self, tag, attrs):\n",
    "        print('Start :', tag)\n",
    "        for attr in attrs:\n",
    "            print(f'-> {attr[0]} > {attr[1]}')\n",
    "            \n",
    "    def handle_endtag(self, tag):\n",
    "        print('End   :', tag)\n",
    "\n",
    "    def handle_startendtag(self, tag, attrs):\n",
    "        print('Empty :', tag)\n",
    "        for attr in attrs:\n",
    "            print(f'-> {attr[0]} > {attr[1]}')\n",
    "\n",
    "n = int(input())\n",
    "html_code = ''\n",
    "for i in range(n):\n",
    "    html_code += input()\n",
    "\n",
    "parser = MyHTMLParser()\n",
    "parser.feed(html_code)"
   ]
  },
  {
   "cell_type": "code",
   "execution_count": 11,
   "id": "9776dcb1",
   "metadata": {},
   "outputs": [
    {
     "name": "stdout",
     "output_type": "stream",
     "text": [
      "4\n",
      "<!--[if IE 9]>IE9-specific content\n",
      "<![endif]-->\n",
      "<div> Welcome to HackerRank</div>\n",
      "<!--[if IE 9]>IE9-specific content<![endif]-->\n",
      ">>> Multi-line Comment\n",
      "[if IE 9]>IE9-specific content\n",
      "<![endif]\n",
      ">>> Data\n",
      " Welcome to HackerRank\n",
      ">>> Single-line Comment\n",
      "[if IE 9]>IE9-specific content<![endif]\n"
     ]
    }
   ],
   "source": [
    "# HTML parser part-2\n",
    "\n",
    "from html.parser import HTMLParser\n",
    "\n",
    "class MyHTMLParser(HTMLParser):\n",
    "    def handle_comment(self, data):\n",
    "        if '\\n' in data:\n",
    "            print('>>> Multi-line Comment')\n",
    "            print(data)\n",
    "        else:\n",
    "            print('>>> Single-line Comment')\n",
    "            print(data)\n",
    "\n",
    "    def handle_data(self, data):\n",
    "        if data != '\\n':\n",
    "            print('>>> Data')\n",
    "            print(data)\n",
    "   \n",
    "html = \"\"       \n",
    "for i in range(int(input())):\n",
    "    html += input().rstrip()\n",
    "    html += '\\n'\n",
    "    \n",
    "parser = MyHTMLParser()\n",
    "parser.feed(html)\n",
    "parser.close()"
   ]
  },
  {
   "cell_type": "code",
   "execution_count": null,
   "id": "ce4623e2",
   "metadata": {},
   "outputs": [],
   "source": [
    "# Detect HTML Tags, Attributes and Attribute Values\n",
    "\n",
    "# Enter your code here. Read input from STDIN. Print output to STDOUT\n",
    "from html.parser import HTMLParser\n",
    "\n",
    "class MyHTMLParser(HTMLParser):\n",
    "    def handle_starttag(self, tag, attrs):\n",
    "        print(tag)\n",
    "        for attr in attrs:\n",
    "            print('->', attr[0], '>', attr[1])\n",
    "\n",
    "n = int(input())\n",
    "html_code = ''\n",
    "for i in range(n):\n",
    "    html_code += input()\n",
    "\n",
    "parser = MyHTMLParser()\n",
    "parser.feed(html_code)"
   ]
  },
  {
   "cell_type": "code",
   "execution_count": 12,
   "id": "42f4d407",
   "metadata": {},
   "outputs": [
    {
     "name": "stdout",
     "output_type": "stream",
     "text": [
      "2\n",
      "B1CD102354\n",
      "Invalid\n",
      "B1CDEF2354\n",
      "Valid\n"
     ]
    }
   ],
   "source": [
    "# Validating UID\n",
    "\n",
    "# Enter your code here. Read input from STDIN. Print output to STDOUT\n",
    "import re\n",
    "\n",
    "n = int(input())\n",
    "\n",
    "for i in range(n):\n",
    "    uid = input().strip()\n",
    "    if re.match(r'^(?=.*[A-Z].*[A-Z])(?=.*\\d.*\\d.*\\d)(?!.*[^a-zA-Z0-9])(?!.*(.).*\\1)^([a-zA-Z0-9]){10}$', uid):\n",
    "        print('Valid')\n",
    "    else:\n",
    "        print('Invalid')"
   ]
  },
  {
   "cell_type": "code",
   "execution_count": 13,
   "id": "9b55a5b3",
   "metadata": {},
   "outputs": [
    {
     "name": "stdout",
     "output_type": "stream",
     "text": [
      "3\n",
      "5123 - 3567 - 8912 - 3456\n",
      "Invalid\n",
      "5123-4567-8912-3456\n",
      "Valid\n",
      "4123356789123456\n",
      "Valid\n"
     ]
    }
   ],
   "source": [
    "# Validating Credit card numbers\n",
    "\n",
    "# Enter your code here. Read input from STDIN. Print output to STDOUT\n",
    "import re\n",
    "condition = re.compile(\n",
    "    r\"^\"\n",
    "    r\"(?!.*(\\d)(-?\\1){3})\"\n",
    "    r\"[456]\"\n",
    "    r\"\\d{3}\"\n",
    "    r\"(?:-?\\d{4}){3}\"\n",
    "    r\"$\"\n",
    ")\n",
    "\n",
    "for i in range(int(input().strip())):\n",
    "    if condition.search(input().strip()):\n",
    "        print(\"Valid\")\n",
    "    else:\n",
    "        print(\"Invalid\")"
   ]
  },
  {
   "cell_type": "code",
   "execution_count": 14,
   "id": "e5bc4bed",
   "metadata": {},
   "outputs": [
    {
     "name": "stdout",
     "output_type": "stream",
     "text": [
      "110000\n",
      "False\n"
     ]
    }
   ],
   "source": [
    "# Validating postal codes\n",
    "\n",
    "regex_integer_in_range = r\"^[1-9][\\d]{5}$\"\t# Do not delete 'r'.\n",
    "regex_alternating_repetitive_digit_pair = r\"(\\d)(?=\\d\\1)\"\t# Do not delete 'r'.\n",
    "\n",
    "\n",
    "import re\n",
    "P = input()\n",
    "\n",
    "print (bool(re.match(regex_integer_in_range, P)) \n",
    "and len(re.findall(regex_alternating_repetitive_digit_pair, P)) < 2)"
   ]
  },
  {
   "cell_type": "code",
   "execution_count": null,
   "id": "3cac3630",
   "metadata": {},
   "outputs": [],
   "source": [
    "#!/bin/python3\n",
    "\n",
    "import math\n",
    "import os\n",
    "import random\n",
    "import re\n",
    "import sys\n",
    "\n",
    "first_multiple_input = input().rstrip().split()\n",
    "\n",
    "n = int(first_multiple_input[0])\n",
    "\n",
    "m = int(first_multiple_input[1])\n",
    "\n",
    "matrix = []\n",
    "\n",
    "for _ in range(n):\n",
    "    matrix_item = input()\n",
    "    matrix.append(matrix_item)\n",
    "    \n",
    "new_string = \"\".join(matrix[j][i] for i in range(m) for j in range(n))\n",
    "pattern = r'(?<=[a-zA-Z0-9])[^a-zA-Z0-9]+(?=[a-zA-Z0-9])'\n",
    "print(re.sub(pattern,' ',new_string))"
   ]
  }
 ],
 "metadata": {
  "kernelspec": {
   "display_name": "Python 3 (ipykernel)",
   "language": "python",
   "name": "python3"
  },
  "language_info": {
   "codemirror_mode": {
    "name": "ipython",
    "version": 3
   },
   "file_extension": ".py",
   "mimetype": "text/x-python",
   "name": "python",
   "nbconvert_exporter": "python",
   "pygments_lexer": "ipython3",
   "version": "3.10.4"
  }
 },
 "nbformat": 4,
 "nbformat_minor": 5
}
